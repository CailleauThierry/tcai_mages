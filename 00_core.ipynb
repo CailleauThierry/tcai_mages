{
 "cells": [
  {
   "cell_type": "code",
   "execution_count": 1,
   "metadata": {},
   "outputs": [],
   "source": [
    "# default_exp core"
   ]
  },
  {
   "cell_type": "markdown",
   "metadata": {},
   "source": [
    "# core\n",
    "\n",
    "> API details."
   ]
  },
  {
   "cell_type": "code",
   "execution_count": 2,
   "metadata": {},
   "outputs": [],
   "source": [
    "#hide\n",
    "from nbdev.showdoc import *"
   ]
  },
  {
   "cell_type": "code",
   "execution_count": 3,
   "metadata": {},
   "outputs": [],
   "source": [
    "#export\n",
    "class Ability:\n",
    "    ability_types = [\"fire\", \"water\"]\n",
    "\n",
    "    def __init__(self, damage, damage_type):\n",
    "        self.damage = damage\n",
    "        self.damage_type = damage_type\n",
    "\n",
    "    def __str__(self):\n",
    "        if self.damage_type == \"fire\":\n",
    "            return \"a jet of fire shoots towards\"\n",
    "        elif self.damage_type == \"water\":\n",
    "            return \"ice-cold water is flung towards\""
   ]
  },
  {
   "cell_type": "code",
   "execution_count": 4,
   "metadata": {},
   "outputs": [],
   "source": [
    "#export\n",
    "class Character:\n",
    "    def __init__(self, name, max_health, ability):\n",
    "        self.name = name\n",
    "        self.max_health = max_health\n",
    "        self.current_health = max_health\n",
    "        self.ability = ability\n",
    "        self.level = 1\n",
    "\n",
    "    def __str__(self):\n",
    "        return f\"\"\"\\\n",
    "            {self.name}'s Current Health: {self.current_health}\n",
    "            {self.name}'s Max Health: {self.max_health}\n",
    "            {self.name}'s Ability Damage: {self.ability.damage}\n",
    "            {self.name}'s Ability Type: {self.ability.damage_type}\n",
    "            \"\"\""
   ]
  },
  {
   "cell_type": "code",
   "execution_count": 5,
   "metadata": {},
   "outputs": [],
   "source": [
    "#export\n",
    "class Mage(Character):\n",
    "    \"This is the main class for the player\"\n",
    "    def __init__(self, name, max_health, ability):\n",
    "        super().__init__(name, max_health, ability)\n",
    "\n",
    "    def attack(self, target):\n",
    "        \"Attacks the given enemy\"\n",
    "        print(f\"From {self.name}'s wand, {self.ability} {target.name}.\")\n",
    "        target.current_health -= self.ability.damage\n",
    "\n",
    "    def level_up(self):\n",
    "        self.level += 1\n",
    "        self.max_health = self.max_health * self.level\n",
    "        self.current_health = self.max_health\n",
    "        self.ability.damage = self.ability.damage * self.level"
   ]
  },
  {
   "cell_type": "code",
   "execution_count": 9,
   "metadata": {},
   "outputs": [
    {
     "output_type": "display_data",
     "data": {
      "text/plain": "<IPython.core.display.Markdown object>",
      "text/markdown": "<h4 id=\"Mage.attack\" class=\"doc_header\"><code>Mage.attack</code><a href=\"__main__.py#L7\" class=\"source_link\" style=\"float:right\">[source]</a></h4>\n\n> <code>Mage.attack</code>(**`target`**)\n\nAttacks the given enemy"
     },
     "metadata": {}
    }
   ],
   "source": [
    "show_doc(Mage.attack)"
   ]
  },
  {
   "cell_type": "code",
   "execution_count": 7,
   "metadata": {},
   "outputs": [],
   "source": [
    "#export\n",
    "class Demon(Character):\n",
    "    def __init__(self, name, max_health):\n",
    "        super().__init__(name, max_health, Ability(10, \"fire\"))\n",
    "\n",
    "    def attack(self, target):\n",
    "        print(f\"From {self.name}'s wand, {self.ability} {target.name}.\")\n",
    "        target.current_health -= self.ability.damage"
   ]
  },
  {
   "cell_type": "code",
   "execution_count": 8,
   "metadata": {},
   "outputs": [
    {
     "output_type": "stream",
     "name": "stdout",
     "text": [
      "Converted 00_core.ipynb.\nConverted 01_game.ipynb.\nConverted index.ipynb.\n"
     ]
    }
   ],
   "source": [
    "from nbdev.export import notebook2script; notebook2script()"
   ]
  }
 ],
 "metadata": {
  "kernelspec": {
   "name": "python391jvsc74a57bd0f727a3ef71f8e000ac8e615c9588a9ba2bacd5f4ec63f2919734c7064d9d0e56",
   "display_name": "Python 3.9.1 64-bit"
  },
  "metadata": {
   "interpreter": {
    "hash": "f727a3ef71f8e000ac8e615c9588a9ba2bacd5f4ec63f2919734c7064d9d0e56"
   }
  }
 },
 "nbformat": 4,
 "nbformat_minor": 2
}