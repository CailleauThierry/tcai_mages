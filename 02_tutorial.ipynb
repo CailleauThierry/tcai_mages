{
 "cells": [
  {
   "cell_type": "markdown",
   "metadata": {},
   "source": [
    "# Tutorial\n",
    "\n",
    "> Tutorial details"
   ]
  },
  {
   "cell_type": "code",
   "execution_count": 4,
   "metadata": {},
   "outputs": [
    {
     "output_type": "stream",
     "name": "stdout",
     "text": [
      "Converted 00_core.ipynb.\nConverted 01_game.ipynb.\nConverted index.ipynb.\n"
     ]
    }
   ],
   "source": [
    "from nbdev.export import notebook2script; notebook2script()"
   ]
  },
  {
   "cell_type": "code",
   "execution_count": null,
   "metadata": {},
   "outputs": [],
   "source": []
  }
 ],
 "metadata": {
  "kernelspec": {
   "name": "python391jvsc74a57bd0f727a3ef71f8e000ac8e615c9588a9ba2bacd5f4ec63f2919734c7064d9d0e56",
   "display_name": "Python 3.9.1 64-bit"
  },
  "metadata": {
   "interpreter": {
    "hash": "f727a3ef71f8e000ac8e615c9588a9ba2bacd5f4ec63f2919734c7064d9d0e56"
   }
  }
 },
 "nbformat": 4,
 "nbformat_minor": 2
}