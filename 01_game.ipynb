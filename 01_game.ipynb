{
 "cells": [
  {
   "cell_type": "code",
   "execution_count": 1,
   "metadata": {},
   "outputs": [],
   "source": [
    "# default_exp game"
   ]
  },
  {
   "cell_type": "markdown",
   "metadata": {},
   "source": [
    "# module name here\n",
    "\n",
    "> API details."
   ]
  },
  {
   "cell_type": "code",
   "execution_count": 2,
   "metadata": {},
   "outputs": [],
   "source": [
    "from tcai_mages.core import Mage, Ability, Demon"
   ]
  },
  {
   "cell_type": "code",
   "execution_count": 3,
   "metadata": {},
   "outputs": [],
   "source": [
    "#hide\n",
    "from nbdev.showdoc import *"
   ]
  },
  {
   "cell_type": "code",
   "execution_count": 4,
   "metadata": {},
   "outputs": [],
   "source": [
    "#export\n",
    "def init_player():\n",
    "    print(f\"Hi there, what is your speciality? {Ability.ability_types}\")\n",
    "    while True:\n",
    "        ability_types = input()\n",
    "        if ability_types in Ability.ability_types:\n",
    "            break\n",
    "        else:\n",
    "            print(f\"Invalid ability choice, What is your Speciality? {Ability.ability_types}\")\n",
    "    name = input(\"What is your name, mage?\")\n",
    "    return Mage(name, 100, Ability(10, ability_types))"
   ]
  },
  {
   "cell_type": "code",
   "execution_count": 5,
   "metadata": {},
   "outputs": [],
   "source": [
    "#export\n",
    "COMBAT_OPTIONS = [\"attack\"]\n",
    "\n",
    "def combat(player, boss):\n",
    "    print(\"Combat has begun!\")\n",
    "    while True:\n",
    "        print(player)\n",
    "        print(boss)\n",
    "        print(f\"What do you want to do? {COMBAT_OPTIONS}\")\n",
    "        player_move = input()\n",
    "        if player_move not in COMBAT_OPTIONS:\n",
    "            print(\"Not an option, you lose a move!\")\n",
    "        else:\n",
    "            if player_move == \"attack\":\n",
    "                player.attack(boss)\n",
    "                if boss.current_health <= 0:\n",
    "                    return player\n",
    "        boss.attack(player)\n",
    "        if player.current_health <= 0:\n",
    "            return boss"
   ]
  },
  {
   "cell_type": "code",
   "execution_count": 6,
   "metadata": {},
   "outputs": [],
   "source": [
    "#export\n",
    "def game_loop(player, n = 5):\n",
    "    for i in range(1, n + 1):\n",
    "        boss = Demon(\"Gary\", 50 * i)\n",
    "        print(f\"A demon name {boss.name}) appeared! They seem to have a chip on their shoulder and want to fight you.\")\n",
    "        winner = combat(player, boss)\n",
    "        if winner == player:\n",
    "            print(f\"Well done, you beat {boss.name} and leveled up to {i + 1}! \")\n",
    "            player.level_up()\n",
    "        else:\n",
    "            print(f\"You have fallen to {boss.name}. Game Over!\")\n",
    "            break\n",
    "    if i == n:\n",
    "        print(f\"Congratulations, you've defeated all the bosses and won the game. {player.name}'s name shall go down in history!\")"
   ]
  },
  {
   "cell_type": "code",
   "execution_count": 7,
   "metadata": {},
   "outputs": [
    {
     "output_type": "stream",
     "name": "stdout",
     "text": [
      "Hi there, what is your speciality? ['fire', 'water']\n",
      "A demon name Gary) appeared! They seem to have a chip on their shoulder and want to fight you.\n",
      "Combat has begun!\n",
      "            Thierry's Current Health: 100\n",
      "            Thierry's Max Health: 100\n",
      "            Thierry's Ability Damage: 10\n",
      "            Thierry's Ability Type: fire\n",
      "            \n",
      "            Gary's Current Health: 50\n",
      "            Gary's Max Health: 50\n",
      "            Gary's Ability Damage: 10\n",
      "            Gary's Ability Type: fire\n",
      "            \n",
      "What do you want to do? ['attack']\n",
      "From Thierry's wand, a jet of fire shoots towards Gary.\n",
      "From Gary's wand, a jet of fire shoots towards Thierry.\n",
      "            Thierry's Current Health: 90\n",
      "            Thierry's Max Health: 100\n",
      "            Thierry's Ability Damage: 10\n",
      "            Thierry's Ability Type: fire\n",
      "            \n",
      "            Gary's Current Health: 40\n",
      "            Gary's Max Health: 50\n",
      "            Gary's Ability Damage: 10\n",
      "            Gary's Ability Type: fire\n",
      "            \n",
      "What do you want to do? ['attack']\n",
      "From Thierry's wand, a jet of fire shoots towards Gary.\n",
      "From Gary's wand, a jet of fire shoots towards Thierry.\n",
      "            Thierry's Current Health: 80\n",
      "            Thierry's Max Health: 100\n",
      "            Thierry's Ability Damage: 10\n",
      "            Thierry's Ability Type: fire\n",
      "            \n",
      "            Gary's Current Health: 30\n",
      "            Gary's Max Health: 50\n",
      "            Gary's Ability Damage: 10\n",
      "            Gary's Ability Type: fire\n",
      "            \n",
      "What do you want to do? ['attack']\n",
      "From Thierry's wand, a jet of fire shoots towards Gary.\n",
      "From Gary's wand, a jet of fire shoots towards Thierry.\n",
      "            Thierry's Current Health: 70\n",
      "            Thierry's Max Health: 100\n",
      "            Thierry's Ability Damage: 10\n",
      "            Thierry's Ability Type: fire\n",
      "            \n",
      "            Gary's Current Health: 20\n",
      "            Gary's Max Health: 50\n",
      "            Gary's Ability Damage: 10\n",
      "            Gary's Ability Type: fire\n",
      "            \n",
      "What do you want to do? ['attack']\n",
      "From Thierry's wand, a jet of fire shoots towards Gary.\n",
      "From Gary's wand, a jet of fire shoots towards Thierry.\n",
      "            Thierry's Current Health: 60\n",
      "            Thierry's Max Health: 100\n",
      "            Thierry's Ability Damage: 10\n",
      "            Thierry's Ability Type: fire\n",
      "            \n",
      "            Gary's Current Health: 10\n",
      "            Gary's Max Health: 50\n",
      "            Gary's Ability Damage: 10\n",
      "            Gary's Ability Type: fire\n",
      "            \n",
      "What do you want to do? ['attack']\n",
      "From Thierry's wand, a jet of fire shoots towards Gary.\n",
      "Well done, you beat Gary and leveled up to 2! \n"
     ]
    },
    {
     "output_type": "error",
     "ename": "TypeError",
     "evalue": "unsupported operand type(s) for *: 'Ability' and 'int'",
     "traceback": [
      "\u001b[1;31m---------------------------------------------------------------------------\u001b[0m",
      "\u001b[1;31mTypeError\u001b[0m                                 Traceback (most recent call last)",
      "\u001b[1;32m<ipython-input-7-f2878f9a6ea2>\u001b[0m in \u001b[0;36m<module>\u001b[1;34m\u001b[0m\n\u001b[0;32m      1\u001b[0m \u001b[0mplayer\u001b[0m \u001b[1;33m=\u001b[0m \u001b[0minit_player\u001b[0m\u001b[1;33m(\u001b[0m\u001b[1;33m)\u001b[0m\u001b[1;33m\u001b[0m\u001b[1;33m\u001b[0m\u001b[0m\n\u001b[1;32m----> 2\u001b[1;33m \u001b[0mgame_loop\u001b[0m\u001b[1;33m(\u001b[0m\u001b[0mplayer\u001b[0m\u001b[1;33m,\u001b[0m \u001b[1;36m1\u001b[0m\u001b[1;33m)\u001b[0m\u001b[1;33m\u001b[0m\u001b[1;33m\u001b[0m\u001b[0m\n\u001b[0m",
      "\u001b[1;32m<ipython-input-6-7af9f9d03b74>\u001b[0m in \u001b[0;36mgame_loop\u001b[1;34m(player, n)\u001b[0m\n\u001b[0;32m      7\u001b[0m         \u001b[1;32mif\u001b[0m \u001b[0mwinner\u001b[0m \u001b[1;33m==\u001b[0m \u001b[0mplayer\u001b[0m\u001b[1;33m:\u001b[0m\u001b[1;33m\u001b[0m\u001b[1;33m\u001b[0m\u001b[0m\n\u001b[0;32m      8\u001b[0m             \u001b[0mprint\u001b[0m\u001b[1;33m(\u001b[0m\u001b[1;34mf\"Well done, you beat {boss.name} and leveled up to {i + 1}! \"\u001b[0m\u001b[1;33m)\u001b[0m\u001b[1;33m\u001b[0m\u001b[1;33m\u001b[0m\u001b[0m\n\u001b[1;32m----> 9\u001b[1;33m             \u001b[0mplayer\u001b[0m\u001b[1;33m.\u001b[0m\u001b[0mlevel_up\u001b[0m\u001b[1;33m(\u001b[0m\u001b[1;33m)\u001b[0m\u001b[1;33m\u001b[0m\u001b[1;33m\u001b[0m\u001b[0m\n\u001b[0m\u001b[0;32m     10\u001b[0m         \u001b[1;32melse\u001b[0m\u001b[1;33m:\u001b[0m\u001b[1;33m\u001b[0m\u001b[1;33m\u001b[0m\u001b[0m\n\u001b[0;32m     11\u001b[0m             \u001b[0mprint\u001b[0m\u001b[1;33m(\u001b[0m\u001b[1;34mf\"You have fallen to {boss.name}. Game Over!\"\u001b[0m\u001b[1;33m)\u001b[0m\u001b[1;33m\u001b[0m\u001b[1;33m\u001b[0m\u001b[0m\n",
      "\u001b[1;32mc:\\Users\\tcailleau\\Documents\\Python\\tcai_mages\\tcai_mages\\core.py\u001b[0m in \u001b[0;36mlevel_up\u001b[1;34m(self)\u001b[0m\n\u001b[0;32m     47\u001b[0m         \u001b[0mself\u001b[0m\u001b[1;33m.\u001b[0m\u001b[0mmax_health\u001b[0m \u001b[1;33m=\u001b[0m \u001b[0mself\u001b[0m\u001b[1;33m.\u001b[0m\u001b[0mmax_health\u001b[0m \u001b[1;33m*\u001b[0m \u001b[0mself\u001b[0m\u001b[1;33m.\u001b[0m\u001b[0mlevel\u001b[0m\u001b[1;33m\u001b[0m\u001b[1;33m\u001b[0m\u001b[0m\n\u001b[0;32m     48\u001b[0m         \u001b[0mself\u001b[0m\u001b[1;33m.\u001b[0m\u001b[0mcurrent_health\u001b[0m \u001b[1;33m=\u001b[0m \u001b[0mself\u001b[0m\u001b[1;33m.\u001b[0m\u001b[0mmax_health\u001b[0m\u001b[1;33m\u001b[0m\u001b[1;33m\u001b[0m\u001b[0m\n\u001b[1;32m---> 49\u001b[1;33m         \u001b[0mself\u001b[0m\u001b[1;33m.\u001b[0m\u001b[0mability\u001b[0m\u001b[1;33m.\u001b[0m\u001b[0mdamage\u001b[0m \u001b[1;33m=\u001b[0m \u001b[0mself\u001b[0m\u001b[1;33m.\u001b[0m\u001b[0mability\u001b[0m \u001b[1;33m*\u001b[0m \u001b[0mself\u001b[0m\u001b[1;33m.\u001b[0m\u001b[0mlevel\u001b[0m\u001b[1;33m\u001b[0m\u001b[1;33m\u001b[0m\u001b[0m\n\u001b[0m\u001b[0;32m     50\u001b[0m \u001b[1;33m\u001b[0m\u001b[0m\n\u001b[0;32m     51\u001b[0m \u001b[1;31m# Cell\u001b[0m\u001b[1;33m\u001b[0m\u001b[1;33m\u001b[0m\u001b[1;33m\u001b[0m\u001b[0m\n",
      "\u001b[1;31mTypeError\u001b[0m: unsupported operand type(s) for *: 'Ability' and 'int'"
     ]
    }
   ],
   "source": [
    "player = init_player()\n",
    "game_loop(player, 1)"
   ]
  },
  {
   "cell_type": "code",
   "execution_count": 9,
   "metadata": {},
   "outputs": [
    {
     "output_type": "stream",
     "name": "stdout",
     "text": [
      "Converted 00_core.ipynb.\nConverted 01_game.ipynb.\nConverted index.ipynb.\n"
     ]
    }
   ],
   "source": [
    "from nbdev.export import notebook2script; notebook2script()"
   ]
  },
  {
   "cell_type": "code",
   "execution_count": null,
   "metadata": {},
   "outputs": [],
   "source": []
  }
 ],
 "metadata": {
  "kernelspec": {
   "name": "python391jvsc74a57bd0f727a3ef71f8e000ac8e615c9588a9ba2bacd5f4ec63f2919734c7064d9d0e56",
   "display_name": "Python 3.9.1 64-bit"
  },
  "metadata": {
   "interpreter": {
    "hash": "f727a3ef71f8e000ac8e615c9588a9ba2bacd5f4ec63f2919734c7064d9d0e56"
   }
  }
 },
 "nbformat": 4,
 "nbformat_minor": 2
}